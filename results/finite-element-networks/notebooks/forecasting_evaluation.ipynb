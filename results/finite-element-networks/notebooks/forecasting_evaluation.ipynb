{
 "cells": [
  {
   "cell_type": "markdown",
   "id": "6e6ec634-089a-4f0f-ab74-b0d9e58aba67",
   "metadata": {},
   "source": [
    "# Forecasting Evaluation\n",
    "\n",
    "This notebook shows you how to evaluate the pre-trained checkpoints against the Black Sea and Scalar Flow datasets. It requires that you install the package with the `lightning` extra, i.e. `pip install -e '.[lightning]'`."
   ]
  },
  {
   "cell_type": "code",
   "execution_count": 1,
   "id": "171df408-cd6a-4202-892b-dbc871701aae",
   "metadata": {},
   "outputs": [],
   "source": [
    "from pathlib import Path\n",
    "\n",
    "import torch\n",
    "from pytorch_lightning import Trainer\n",
    "\n",
    "import finite_element_networks as fen\n",
    "from finite_element_networks import FENDomainInfo\n",
    "from finite_element_networks.lightning import BlackSeaDataModule, ScalarFlowDataModule, SequenceRegressionTask\n",
    "from finite_element_networks.utils import load_checkpoint"
   ]
  },
  {
   "cell_type": "code",
   "execution_count": 2,
   "id": "89b7628f-dc7d-46ed-900b-dc70faa91dcd",
   "metadata": {},
   "outputs": [],
   "source": [
    "dataset_name = \"black-sea\"\n",
    "model_name = \"tfen\""
   ]
  },
  {
   "cell_type": "code",
   "execution_count": 3,
   "id": "db0f4854-d3e5-4c10-88a8-9ce66e0c6e7e",
   "metadata": {},
   "outputs": [],
   "source": [
    "project_root = Path(fen.__file__).resolve().parent.parent\n",
    "ckpt_dir = project_root / \"checkpoints\"\n",
    "data_dir = project_root / \"data\""
   ]
  },
  {
   "cell_type": "code",
   "execution_count": 4,
   "id": "edae7ace-b225-4e09-be52-14f09b7ab5e6",
   "metadata": {},
   "outputs": [],
   "source": [
    "ckpt = torch.load(ckpt_dir / dataset_name / f\"{model_name}.pt\")\n",
    "model = load_checkpoint(ckpt)"
   ]
  },
  {
   "cell_type": "code",
   "execution_count": 5,
   "id": "567dec4a-574d-4375-a326-fef501b0638b",
   "metadata": {},
   "outputs": [],
   "source": [
    "if dataset_name == \"black-sea\":\n",
    "    dm = BlackSeaDataModule(data_dir / dataset_name, FENDomainInfo.from_domain)\n",
    "if dataset_name == \"scalar-flow\":\n",
    "    dm = ScalarFlowDataModule(data_dir / dataset_name, FENDomainInfo.from_domain)"
   ]
  },
  {
   "cell_type": "code",
   "execution_count": 6,
   "id": "565fa496-6595-4d9d-8973-d60541240afb",
   "metadata": {},
   "outputs": [],
   "source": [
    "task = SequenceRegressionTask(model)"
   ]
  },
  {
   "cell_type": "code",
   "execution_count": 7,
   "id": "ee7fd6a6-0711-4497-96c3-0be7871ed439",
   "metadata": {},
   "outputs": [
    {
     "name": "stderr",
     "output_type": "stream",
     "text": [
      "GPU available: False, used: False\n",
      "TPU available: False, using: 0 TPU cores\n",
      "IPU available: False, using: 0 IPUs\n",
      "/home/ml/.pyenv/versions/3.9.10/envs/fen/lib/python3.9/site-packages/pytorch_lightning/trainer/data_loading.py:659: UserWarning: Your `test_dataloader` has `shuffle=True`, it is strongly recommended that you turn this off for val/test/predict dataloaders.\n",
      "  rank_zero_warn(\n",
      "/home/ml/.pyenv/versions/3.9.10/envs/fen/lib/python3.9/site-packages/pytorch_lightning/trainer/data_loading.py:132: UserWarning: The dataloader, test_dataloader 0, does not have many workers which may be a bottleneck. Consider increasing the value of the `num_workers` argument` (try 8 which is the number of cpus on this machine) in the `DataLoader` init to improve performance.\n",
      "  rank_zero_warn(\n"
     ]
    },
    {
     "data": {
      "application/vnd.jupyter.widget-view+json": {
       "model_id": "15240a7d28a9440abdd4081f4d5700c6",
       "version_major": 2,
       "version_minor": 0
      },
      "text/plain": [
       "Testing: 0it [00:00, ?it/s]"
      ]
     },
     "metadata": {},
     "output_type": "display_data"
    },
    {
     "name": "stdout",
     "output_type": "stream",
     "text": [
      "--------------------------------------------------------------------------------\n",
      "DATALOADER:0 TEST RESULTS\n",
      "{'test/mae': 0.8493268489837646, 'test/nfe': 65.71186065673828}\n",
      "--------------------------------------------------------------------------------\n"
     ]
    },
    {
     "data": {
      "text/plain": [
       "[{'test/nfe': 65.71186065673828, 'test/mae': 0.8493268489837646}]"
      ]
     },
     "execution_count": 7,
     "metadata": {},
     "output_type": "execute_result"
    }
   ],
   "source": [
    "gpus = 1 if torch.cuda.is_available() else 0\n",
    "trainer = Trainer(gpus=gpus)\n",
    "trainer.test(task, datamodule=dm)"
   ]
  }
 ],
 "metadata": {
  "kernelspec": {
   "display_name": "Python 3 (ipykernel)",
   "language": "python",
   "name": "python3"
  },
  "language_info": {
   "codemirror_mode": {
    "name": "ipython",
    "version": 3
   },
   "file_extension": ".py",
   "mimetype": "text/x-python",
   "name": "python",
   "nbconvert_exporter": "python",
   "pygments_lexer": "ipython3",
   "version": "3.9.10"
  }
 },
 "nbformat": 4,
 "nbformat_minor": 5
}
